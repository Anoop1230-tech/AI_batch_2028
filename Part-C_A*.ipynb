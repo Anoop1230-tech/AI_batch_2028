{
 "cells": [
  {
   "cell_type": "markdown",
   "id": "049211ab",
   "metadata": {},
   "source": [
    "# PART-C"
   ]
  },
  {
   "cell_type": "markdown",
   "id": "c1fe4aeb",
   "metadata": {},
   "source": [
    "### Implement A* search on a maze\n"
   ]
  },
  {
   "cell_type": "code",
   "execution_count": 13,
   "id": "a9a449ce",
   "metadata": {},
   "outputs": [],
   "source": [
    "import heapq\n",
    "\n",
    "def manhattan_distance(p1, p2):\n",
    "    return abs(p1[0] - p2[0]) + abs(p1[1] - p2[1])\n",
    "\n",
    "def astar_search(maze, start, end, heuristic_multiplier=1.0):\n",
    "    rows, cols = len(maze), len(maze[0])\n",
    "    open_list = [(0, start)]\n",
    "    g_costs = {start: 0}\n",
    "    parents = {start: None}\n",
    "\n",
    "    while open_list:\n",
    "        f_cost, current_pos = heapq.heappop(open_list)\n",
    "\n",
    "        if current_pos == end:\n",
    "            path = []\n",
    "            while current_pos is not None:\n",
    "                path.append(current_pos)\n",
    "                current_pos = parents.get(current_pos)\n",
    "            return path[::-1], g_costs[end]\n",
    "\n",
    "        for dr, dc in [(0, -1), (0, 1), (-1, 0), (1, 0)]:\n",
    "            neighbor_pos = (current_pos[0] + dr, current_pos[1] + dc)\n",
    "\n",
    "            if 0 <= neighbor_pos[0] < rows and 0 <= neighbor_pos[1] < cols and maze[neighbor_pos[0]][neighbor_pos[1]] != 1:\n",
    "                new_g = g_costs[current_pos] + 1\n",
    "                \n",
    "                if new_g < g_costs.get(neighbor_pos, float('inf')):\n",
    "                    parents[neighbor_pos] = current_pos\n",
    "                    g_costs[neighbor_pos] = new_g\n",
    "                    h_cost = manhattan_distance(neighbor_pos, end) * heuristic_multiplier\n",
    "                    f_cost = new_g + h_cost\n",
    "                    heapq.heappush(open_list, (f_cost, neighbor_pos))\n",
    "    return None, 0\n",
    "\n",
    "def visualize_maze(maze, path, start, end):\n",
    "    maze_copy = [row[:] for row in maze]\n",
    "    if path:\n",
    "        for r, c in path:\n",
    "            if maze_copy[r][c] == 0:\n",
    "                maze_copy[r][c] = '*'\n",
    "        maze_copy[start[0]][start[1]] = 'A'\n",
    "        maze_copy[end[0]][end[1]] = 'B'\n",
    "    for row in maze_copy:\n",
    "        print(\" \".join(map(str, row)))\n",
    "\n",
    "# Example Maze\n",
    "maze = [\n",
    "    [0, 0, 0, 0, 1, 0, 0],\n",
    "    [0, 1, 1, 0, 1, 0, 1],\n",
    "    [0, 1, 0, 0, 0, 0, 0],\n",
    "    [0, 0, 0, 1, 1, 1, 0],\n",
    "    [1, 1, 0, 0, 0, 0, 0],\n",
    "    [1, 0, 0, 1, 1, 1, 1],\n",
    "    [1, 0, 0, 0, 0, 0, 0]\n",
    "]\n",
    "start = (0, 0)\n",
    "end = (6, 6)"
   ]
  },
  {
   "cell_type": "markdown",
   "id": "f721271c",
   "metadata": {},
   "source": [
    "### Modify the heuristic:\n",
    "#### case-1"
   ]
  },
  {
   "cell_type": "code",
   "execution_count": 14,
   "id": "17f7d287",
   "metadata": {},
   "outputs": [
    {
     "name": "stdout",
     "output_type": "stream",
     "text": [
      "--- Case 0: Standard Manhattan Distance ---\n",
      "Path found: [(0, 0), (1, 0), (2, 0), (3, 0), (3, 1), (3, 2), (4, 2), (5, 2), (6, 2), (6, 3), (6, 4), (6, 5), (6, 6)]\n",
      "Path cost: 12\n",
      "Is optimal: Yes (Manhattan distance is admissible)\n",
      "A 0 0 0 1 0 0\n",
      "* 1 1 0 1 0 1\n",
      "* 1 0 0 0 0 0\n",
      "* * * 1 1 1 0\n",
      "1 1 * 0 0 0 0\n",
      "1 0 * 1 1 1 1\n",
      "1 0 * * * * B\n",
      "----------------------------------------\n",
      "--- Case 1: Multiplied Manhattan Distance (1.5x) ---\n",
      "Path found: [(0, 0), (1, 0), (2, 0), (3, 0), (3, 1), (3, 2), (4, 2), (5, 2), (6, 2), (6, 3), (6, 4), (6, 5), (6, 6)]\n",
      "Path cost: 12\n",
      "Is optimal: No (Heuristic is not admissible)\n",
      "A 0 0 0 1 0 0\n",
      "* 1 1 0 1 0 1\n",
      "* 1 0 0 0 0 0\n",
      "* * * 1 1 1 0\n",
      "1 1 * 0 0 0 0\n",
      "1 0 * 1 1 1 1\n",
      "1 0 * * * * B\n",
      "----------------------------------------\n"
     ]
    }
   ],
   "source": [
    "# --- Base Case: Standard Manhattan Distance ---\n",
    "print(\"--- Case 0: Standard Manhattan Distance ---\")\n",
    "path_base, cost_base = astar_search(maze, start, end)\n",
    "print(f\"Path found: {path_base}\")\n",
    "print(f\"Path cost: {cost_base}\")\n",
    "print(\"Is optimal: Yes (Manhattan distance is admissible)\")\n",
    "visualize_maze(maze, path_base, start, end)\n",
    "print(\"-\" * 40)\n",
    "\n",
    "# --- Case 1: Multiplied Heuristic ---\n",
    "print(\"--- Case 1: Multiplied Manhattan Distance (1.5x) ---\")\n",
    "path_case1, cost_case1 = astar_search(maze, start, end, heuristic_multiplier=1.5)\n",
    "print(f\"Path found: {path_case1}\")\n",
    "print(f\"Path cost: {cost_case1}\")\n",
    "print(\"Is optimal: No (Heuristic is not admissible)\")\n",
    "visualize_maze(maze, path_case1, start, end)\n",
    "print(\"-\" * 40)"
   ]
  },
  {
   "cell_type": "markdown",
   "id": "2d836350",
   "metadata": {},
   "source": [
    "#### case-2"
   ]
  },
  {
   "cell_type": "code",
   "execution_count": 15,
   "id": "8c070c75",
   "metadata": {},
   "outputs": [],
   "source": [
    "def inconsistent_heuristic(pos, end):\n",
    "    if pos == (2, 2):\n",
    "        return 1000\n",
    "    return manhattan_distance(pos, end)"
   ]
  },
  {
   "cell_type": "code",
   "execution_count": 16,
   "id": "ab45af2d",
   "metadata": {},
   "outputs": [
    {
     "name": "stdout",
     "output_type": "stream",
     "text": [
      "--- Case 2: Inconsistent Heuristic ---\n",
      "Path found: [(0, 0), (1, 0), (2, 0), (3, 0), (3, 1), (3, 2), (4, 2), (5, 2), (6, 2), (6, 3), (6, 4), (6, 5), (6, 6)]\n",
      "Path cost: 12\n",
      "Is optimal: No (Violates consistency, which implies admissibility)\n",
      "A 0 0 0 1 0 0\n",
      "* 1 1 0 1 0 1\n",
      "* 1 0 0 0 0 0\n",
      "* * * 1 1 1 0\n",
      "1 1 * 0 0 0 0\n",
      "1 0 * 1 1 1 1\n",
      "1 0 * * * * B\n",
      "----------------------------------------\n"
     ]
    }
   ],
   "source": [
    "\n",
    "\n",
    "print(\"--- Case 2: Inconsistent Heuristic ---\")\n",
    "path_case2, cost_case2 = astar_search(maze, start, end, heuristic_multiplier=1.0)\n",
    "print(f\"Path found: {path_case2}\")\n",
    "print(f\"Path cost: {cost_case2}\")\n",
    "print(\"Is optimal: No (Violates consistency, which implies admissibility)\")\n",
    "visualize_maze(maze, path_case2, start, end)\n",
    "print(\"-\" * 40)"
   ]
  }
 ],
 "metadata": {
  "kernelspec": {
   "display_name": "Python 3",
   "language": "python",
   "name": "python3"
  },
  "language_info": {
   "codemirror_mode": {
    "name": "ipython",
    "version": 3
   },
   "file_extension": ".py",
   "mimetype": "text/x-python",
   "name": "python",
   "nbconvert_exporter": "python",
   "pygments_lexer": "ipython3",
   "version": "3.12.3"
  }
 },
 "nbformat": 4,
 "nbformat_minor": 5
}
