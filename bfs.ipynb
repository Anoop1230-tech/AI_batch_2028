{
 "cells": [
  {
   "cell_type": "code",
   "execution_count": 1,
   "id": "d38242d8",
   "metadata": {},
   "outputs": [
    {
     "name": "stdout",
     "output_type": "stream",
     "text": [
      "['A', 'B', 'C', 'D', 'E', 'F', 'G']\n"
     ]
    }
   ],
   "source": [
    "from collections import deque\n",
    "\n",
    "def bfs(graph, start):\n",
    "    visited = set()          # keep track of visited nodes\n",
    "    queue = deque([start])   # use a queue (FIFO)\n",
    "    order = []               # traversal order\n",
    "\n",
    "    while queue:\n",
    "        node = queue.popleft()\n",
    "        if node not in visited:\n",
    "            visited.add(node)\n",
    "            order.append(node)\n",
    "\n",
    "            # add neighbors that are not visited\n",
    "            for neighbor in graph[node]:\n",
    "                if neighbor not in visited:\n",
    "                    queue.append(neighbor)\n",
    "    return order\n",
    "\n",
    "\n",
    "# Example graph (undirected)\n",
    "graph = {\n",
    "    \"A\": [\"B\", \"C\", \"D\"],\n",
    "    \"B\": [\"A\", \"C\", \"E\"],\n",
    "    \"C\": [\"A\", \"B\", \"D\", \"E\", \"F\"],\n",
    "    \"D\": [\"A\", \"C\", \"F\"],\n",
    "    \"E\": [\"B\", \"C\", \"F\", \"G\"],\n",
    "    \"F\": [\"C\", \"D\", \"E\", \"G\"],\n",
    "    \"G\": [\"E\", \"F\"]\n",
    "}\n",
    "\n",
    "# Run BFS starting from node \"A\"\n",
    "print(bfs(graph, \"A\"))\n"
   ]
  },
  {
   "cell_type": "code",
   "execution_count": 18,
   "id": "f6e6b1e4",
   "metadata": {},
   "outputs": [
    {
     "name": "stdout",
     "output_type": "stream",
     "text": [
      "steps : 3\n",
      "['A', 'B', 'C']\n"
     ]
    }
   ],
   "source": [
    "from collections import deque\n",
    "\n",
    "def bfs(graph, start, destination):\n",
    "    visited = set()          # keep track of visited nodes\n",
    "    queue = deque([start])   # use a queue (FIFO)\n",
    "    order = []               # traversal order\n",
    "    \n",
    "    while queue:\n",
    "        node = queue.popleft()\n",
    "        if node not in visited:\n",
    "            visited.add(node)\n",
    "            order.append(node)\n",
    "            if node == destination:\n",
    "                n=len(order)\n",
    "                print(\"steps :\", n)\n",
    "                return order\n",
    "                \n",
    "            # add neighbors that are not visited\n",
    "            \n",
    "            for neighbor in graph[node]:\n",
    "                if neighbor not in visited:\n",
    "                    queue.append(neighbor)\n",
    "                    \n",
    "                    # if neighbor == destination:\n",
    "                    #     order.append(neighbor)\n",
    "                    #     print(\"steps :\", n)\n",
    "                    #     return order\n",
    "    # if n==0 and node!=destination:\n",
    "    #     return \"No path found\"\n",
    "    # else:\n",
    "    #     print(\"steps :\", n)\n",
    "    \n",
    "\n",
    "\n",
    "# Example graph (undirected)\n",
    "graph = {\n",
    "    \"A\": [\"B\", \"C\", \"D\"],\n",
    "    \"B\": [\"A\", \"C\",],\n",
    "    \"C\": [\"A\", \"B\", \"D\",\"F\"],\n",
    "    \"D\": [\"A\", \"C\", \"F\"],\n",
    "    \"F\": [\"C\", \"D\", \"G\"],\n",
    "    \"G\": [\"F\"]\n",
    "}\n",
    "\n",
    "# Run BFS starting from node \"A\"\n",
    "\n",
    "print(bfs(graph, \"A\", \"C\"))\n",
    "# print(f\"steps :\", n)\n"
   ]
  },
  {
   "cell_type": "code",
   "execution_count": null,
   "id": "19a0dca8",
   "metadata": {},
   "outputs": [],
   "source": []
  }
 ],
 "metadata": {
  "kernelspec": {
   "display_name": "Python 3",
   "language": "python",
   "name": "python3"
  },
  "language_info": {
   "codemirror_mode": {
    "name": "ipython",
    "version": 3
   },
   "file_extension": ".py",
   "mimetype": "text/x-python",
   "name": "python",
   "nbconvert_exporter": "python",
   "pygments_lexer": "ipython3",
   "version": "3.12.3"
  }
 },
 "nbformat": 4,
 "nbformat_minor": 5
}
