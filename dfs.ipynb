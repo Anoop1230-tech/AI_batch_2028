
  {
   "cell_type": "code",
   "execution_count": 8,
   "id": "4f596ae7",
   "metadata": {},
   "outputs": [
    {
     "name": "stdout",
     "output_type": "stream",
     "text": [
      "steps : 7\n",
      "['A', 'B', 'C', 'D', 'F', 'E', 'G']\n"
     ]
    }
   ],
   "source": [
    "def dfs_iterative(graph, start, destination):\n",
    "    visited = set()\n",
    "    stack = [start]      # use stack (LIFO)\n",
    "    order = []\n",
    "\n",
    "    while stack:\n",
    "        node = stack.pop()\n",
    "        if node not in visited:\n",
    "            visited.add(node)\n",
    "            order.append(node)\n",
    "            if node == destination:\n",
    "                n=len(order)\n",
    "                print(\"steps :\", n)\n",
    "                return order\n",
    "\n",
    "            # push neighbors in reverse order to keep order consistent\n",
    "            for neighbor in graph[node]:\n",
    "                if neighbor not in visited:\n",
    "                    stack.append(neighbor)\n",
    "                    break\n",
    "    \n",
    "\n",
    "\n",
    "# Example graph (undirected)\n",
    "graph = {\n",
    "    \"A\": [\"B\", \"C\", \"D\"],\n",
    "    \"B\": [\"A\", \"C\", \"E\"],\n",
    "    \"C\": [\"A\", \"B\", \"D\", \"E\", \"F\"],\n",
    "    \"D\": [\"A\", \"C\", \"F\"],\n",
    "    \"E\": [\"B\", \"C\", \"F\", \"G\"],\n",
    "    \"F\": [\"C\", \"D\", \"E\", \"G\"],\n",
    "    \"G\": [\"E\", \"F\"]\n",
    "}\n",
    "\n",
    "# Run DFS starting from node \"A\"\n",
    "print(dfs_iterative(graph, \"A\", \"G\"))\n"
   ]
  },
  {
   "cell_type": "code",
   "execution_count": null,
   "id": "7baf4187",
   "metadata": {},
   "outputs": [],
   "source": []
  }
 ],
 "metadata": {
  "kernelspec": {
   "display_name": "Python 3",
   "language": "python",
   "name": "python3"
  },
  "language_info": {
   "codemirror_mode": {
    "name": "ipython",
    "version": 3
   },
   "file_extension": ".py",
   "mimetype": "text/x-python",
   "name": "python",
   "nbconvert_exporter": "python",
   "pygments_lexer": "ipython3",
   "version": "3.12.3"
  }
 },
 "nbformat": 4,
 "nbformat_minor": 5
}
