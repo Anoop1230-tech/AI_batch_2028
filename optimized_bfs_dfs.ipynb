{
 "cells": [
  {
   "cell_type": "code",
   "execution_count": 5,
   "id": "cfd74eaa",
   "metadata": {},
   "outputs": [
    {
     "name": "stdout",
     "output_type": "stream",
     "text": [
      "steps_bfs : 5\n",
      "BFS Path: ['A', 'B', 'C', 'D', 'E']\n",
      "steps_dfs : 6\n",
      "DFS Path: ['A', 'B', 'C', 'D', 'F', 'E']\n",
      "BFS is better\n"
     ]
    }
   ],
   "source": [
    "from collections import deque\n",
    "\n",
    "def bfs(graph, start, destination):\n",
    "    visited = set()          # keep track of visited nodes\n",
    "    queue = deque([start])   # use a queue (FIFO)\n",
    "    order = []               # traversal order\n",
    "    \n",
    "    while queue:\n",
    "        node = queue.popleft()\n",
    "        if node not in visited:\n",
    "            visited.add(node)\n",
    "            order.append(node)\n",
    "            if node == destination:\n",
    "                n=len(order)\n",
    "                print(\"steps_bfs :\", n)\n",
    "                return order\n",
    "                \n",
    "            # add neighbors that are not visited\n",
    "            \n",
    "            for neighbor in graph[node]:\n",
    "                if neighbor not in visited:\n",
    "                    queue.append(neighbor)\n",
    "\n",
    "\n",
    "def dfs(graph, start, destination):\n",
    "    visited = set()\n",
    "    stack = [start]      # use stack (LIFO)\n",
    "    order = []\n",
    "\n",
    "    while stack:\n",
    "        node = stack.pop()\n",
    "        if node not in visited:\n",
    "            visited.add(node)\n",
    "            order.append(node)\n",
    "            if node == destination:\n",
    "                n=len(order)\n",
    "                print(\"steps_dfs :\", n)\n",
    "                return order\n",
    "\n",
    "            # push neighbors in reverse order to keep order consistent\n",
    "            for neighbor in graph[node]:\n",
    "                if neighbor not in visited:\n",
    "                    stack.append(neighbor)\n",
    "                    break\n",
    "\n",
    "graph = {\n",
    "    \"A\": [\"B\", \"C\", \"D\"],\n",
    "    \"B\": [\"A\", \"C\", \"E\"],\n",
    "    \"C\": [\"A\", \"B\", \"D\", \"E\", \"F\"],\n",
    "    \"D\": [\"A\", \"C\", \"F\"],\n",
    "    \"E\": [\"B\", \"C\", \"F\", \"G\"],\n",
    "    \"F\": [\"C\", \"D\", \"E\", \"G\"],\n",
    "    \"G\": [\"E\", \"F\"]\n",
    "}\n",
    "\n",
    "bfs_path = bfs(graph, \"A\", \"E\")\n",
    "print(\"BFS Path:\", bfs_path)\n",
    "dfs_path = dfs(graph, \"A\", \"E\")\n",
    "print(\"DFS Path:\", dfs_path)\n",
    "\n",
    "def compare_bfs_dfs(bfs, dfs):\n",
    "    if len(bfs) < len(dfs):\n",
    "        print(\"BFS is better\")\n",
    "    elif len(bfs) > len(dfs):\n",
    "        print(\"DFS is better\")\n",
    "    else:\n",
    "        print(\"Both are equal\")\n",
    "compare_bfs_dfs(bfs_path, dfs_path) \n"
   ]
  },
  {
   "cell_type": "code",
   "execution_count": null,
   "id": "9045ebdb",
   "metadata": {},
   "outputs": [],
   "source": []
  }
 ],
 "metadata": {
  "kernelspec": {
   "display_name": "Python 3",
   "language": "python",
   "name": "python3"
  },
  "language_info": {
   "codemirror_mode": {
    "name": "ipython",
    "version": 3
   },
   "file_extension": ".py",
   "mimetype": "text/x-python",
   "name": "python",
   "nbconvert_exporter": "python",
   "pygments_lexer": "ipython3",
   "version": "3.12.3"
  }
 },
 "nbformat": 4,
 "nbformat_minor": 5
}
